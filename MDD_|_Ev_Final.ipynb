{
  "nbformat": 4,
  "nbformat_minor": 0,
  "metadata": {
    "colab": {
      "provenance": [],
      "authorship_tag": "ABX9TyNKaYWoFk4oZZKHW5X5MdmC",
      "include_colab_link": true
    },
    "kernelspec": {
      "name": "ir",
      "display_name": "R"
    },
    "language_info": {
      "name": "R"
    }
  },
  "cells": [
    {
      "cell_type": "markdown",
      "metadata": {
        "id": "view-in-github",
        "colab_type": "text"
      },
      "source": [
        "<a href=\"https://colab.research.google.com/github/Carolinsrainbow/UC_MineriaDeDatosConR/blob/main/MDD_%7C_Ev_Final.ipynb\" target=\"_parent\"><img src=\"https://colab.research.google.com/assets/colab-badge.svg\" alt=\"Open In Colab\"/></a>"
      ]
    },
    {
      "cell_type": "markdown",
      "source": [
        "Instrucciones\n",
        "\n",
        "Resumen\n",
        "\n",
        "¡Bienvenido(a)!\n",
        "\n",
        "Te invitamos a realizar el proyecto final del curso, englobando de forma completa el proceso KDD.\n",
        "\n",
        "Objetivo: Resolver un problema de negocio aplicando todas las etapas del proceso de Minería de Datos.\n",
        "Tipo de actividad: Grupal\n",
        "Tipo de evaluación: Sumativa (con calificación)\n",
        "Ponderación: 20%\n",
        "Puntaje: 80 puntos\n",
        "Calificación: Exigencia de 50%.\n",
        "\n",
        "Evaluación\n",
        "\n",
        "Descarga el instrumento de evaluación y revísalo antes de realizar la actividad.\n",
        "Instrucciones\n",
        "\n",
        "1.- Antes de comenzar, debes haber revisado las clases y tutoriales de todo el curso, además de las evaluaciones formativas y las lecturas obligatorias.\n",
        "\n",
        "2.- Para esta actividad, descarga el archivo Ecommerce.csv y cárgalo en R con el nombre “ecommerce”, renombrando las variables, quitando los espacios y otros posibles caracteres conflictivos, según corresponda. Este dataset contiene información sobre las compras en línea que realizaron 500 clientes en una pequeña tienda de retail en EEUU. Debes trabajar en R, para lo cual puedes usar RStudio Cloud (hoy migrando de nombre a “posit”) o instalando R local en tu computador."
      ],
      "metadata": {
        "id": "p6aAtjINRzFv"
      }
    },
    {
      "cell_type": "code",
      "source": [
        "# Instalación\n",
        "install.packages(\"readr\")\n",
        "install.packages(\"dplyr\")\n",
        "install.packages(\"ggplot2\")\n",
        "install.packages(\"scales\")\n",
        "install.packages(\"ggpubr\")\n",
        "install.packages(\"gtsummary\")\n",
        "install.packages(\"corrplot\")\n",
        "install.packages(\"moments\")\n",
        "install.packages(\"skimr\")"
      ],
      "metadata": {
        "collapsed": true,
        "id": "y4NEv8HfdVFQ"
      },
      "execution_count": null,
      "outputs": []
    },
    {
      "cell_type": "code",
      "source": [
        "# Librerías\n",
        "library(readr)\n",
        "library(dplyr)\n",
        "library(ggplot2)\n",
        "library(scales)\n",
        "library(ggpubr)\n",
        "library(gtsummary)\n",
        "library(corrplot)\n",
        "library(moments)\n",
        "library(skimr)"
      ],
      "metadata": {
        "collapsed": true,
        "id": "qsuvLh_gfwgq"
      },
      "execution_count": 36,
      "outputs": []
    },
    {
      "cell_type": "code",
      "source": [
        "#Incorporación archivo\n",
        "ecommerce  <- read.table(\"Ecommerce.txt\", header = TRUE, sep = \",\", stringsAsFactors = FALSE)\n",
        "\n",
        "#Limpieza\n",
        "names(ecommerce) <- gsub(\"[ .]\", \"\", names(ecommerce))\n",
        "print(names(ecommerce))"
      ],
      "metadata": {
        "colab": {
          "base_uri": "https://localhost:8080/"
        },
        "id": "XRjQt_5YgpyP",
        "outputId": "c54aaed7-032b-401c-b448-6bfef6ddfbf2"
      },
      "execution_count": 26,
      "outputs": [
        {
          "output_type": "stream",
          "name": "stdout",
          "text": [
            "[1] \"Email\"              \"Address\"            \"Avatar\"            \n",
            "[4] \"AvgSessionLength\"   \"TimeonApp\"          \"TimeonWebsite\"     \n",
            "[7] \"LengthofMembership\" \"YearlyAmountSpent\" \n"
          ]
        }
      ]
    },
    {
      "cell_type": "code",
      "source": [
        "total_nulos <- sum(is.na(ecommerce))\n",
        "print(total_nulos)"
      ],
      "metadata": {
        "colab": {
          "base_uri": "https://localhost:8080/"
        },
        "id": "OX51W8wczhw_",
        "outputId": "d9e5019c-5da6-4b58-a94f-0bd8a409c7fd"
      },
      "execution_count": 27,
      "outputs": [
        {
          "output_type": "stream",
          "name": "stdout",
          "text": [
            "[1] 0\n"
          ]
        }
      ]
    },
    {
      "cell_type": "code",
      "source": [
        "str(ecommerce)"
      ],
      "metadata": {
        "colab": {
          "base_uri": "https://localhost:8080/"
        },
        "collapsed": true,
        "id": "TM1Nfs_DCcTt",
        "outputId": "c56ef667-0b62-4c55-e695-a9ee72b7f03f"
      },
      "execution_count": 30,
      "outputs": [
        {
          "output_type": "stream",
          "name": "stdout",
          "text": [
            "'data.frame':\t500 obs. of  8 variables:\n",
            " $ Email             : chr  \"mstephenson@fernandez.com\" \"hduke@hotmail.com\" \"pallen@yahoo.com\" \"riverarebecca@gmail.com\" ...\n",
            " $ Address           : chr  \"835 Frank Tunnel\\nWrightmouth, MI 82180-9605\" \"4547 Archer Common\\nDiazchester, CA 06566-8576\" \"24645 Valerie Unions Suite 582\\nCobbborough, DC 99414-7564\" \"1414 David Throughway\\nPort Jason, OH 22070-1220\" ...\n",
            " $ Avatar            : chr  \"Violet\" \"DarkGreen\" \"Bisque\" \"SaddleBrown\" ...\n",
            " $ AvgSessionLength  : num  34.5 31.9 33 34.3 33.3 ...\n",
            " $ TimeonApp         : num  12.7 11.1 11.3 13.7 12.8 ...\n",
            " $ TimeonWebsite     : num  39.6 37.3 37.1 36.7 37.5 ...\n",
            " $ LengthofMembership: num  4.08 2.66 4.1 3.12 4.45 ...\n",
            " $ YearlyAmountSpent : num  588 392 488 582 599 ...\n"
          ]
        }
      ]
    },
    {
      "cell_type": "markdown",
      "source": [
        "3.- Realiza una estadística descriptiva de las variables en estudio (excluyendo email, Address y Avatar). Para las variables cuantitativas utiliza medidas de localización, dispersión y forma. Interpreta los resultados."
      ],
      "metadata": {
        "id": "dwFkSdes9YAn"
      }
    },
    {
      "cell_type": "code",
      "source": [
        "skimr::skim(ecommerce)\n",
        "aux1 = select(ecommerce ,-c(Email,Address,Avatar))"
      ],
      "metadata": {
        "id": "wDbDnSz1Bvl_",
        "colab": {
          "base_uri": "https://localhost:8080/",
          "height": 802
        },
        "outputId": "9eae3f8a-94e1-4882-b8a8-f1dda2ac5c44"
      },
      "execution_count": 35,
      "outputs": [
        {
          "output_type": "stream",
          "name": "stdout",
          "text": [
            "── Data Summary ────────────────────────\n",
            "                           Values   \n",
            "Name                       ecommerce\n",
            "Number of rows             500      \n",
            "Number of columns          8        \n",
            "_______________________             \n",
            "Column type frequency:              \n",
            "  character                3        \n",
            "  numeric                  5        \n",
            "________________________            \n",
            "Group variables            None     \n",
            "\n",
            "── Variable type: character ────────────────────────────────────────────────────\n",
            "  skim_variable n_missing complete_rate min max empty n_unique whitespace\n",
            "\u001b[90m1\u001b[39m Email                 0             1  13  39     0      500          0\n",
            "\u001b[90m2\u001b[39m Address               0             1  23  67     0      500          0\n",
            "\u001b[90m3\u001b[39m Avatar                0             1   3  20     0      138          0\n",
            "\n",
            "── Variable type: numeric ──────────────────────────────────────────────────────\n",
            "  skim_variable      n_missing complete_rate   mean     sd      p0    p25    p50\n",
            "\u001b[90m1\u001b[39m AvgSessionLength           0             1  33.1   0.993  29.5    32.3   33.1 \n",
            "\u001b[90m2\u001b[39m TimeonApp                  0             1  12.1   0.994   8.51   11.4   12.0 \n",
            "\u001b[90m3\u001b[39m TimeonWebsite              0             1  37.1   1.01   33.9    36.3   37.1 \n",
            "\u001b[90m4\u001b[39m LengthofMembership         0             1   3.53  0.999   0.270   2.93   3.53\n",
            "\u001b[90m5\u001b[39m YearlyAmountSpent          0             1 499.   79.3   257.    445.   499.  \n",
            "     p75   p100 hist \n",
            "\u001b[90m1\u001b[39m  33.7   36.1  ▁▃▇▆▁\n",
            "\u001b[90m2\u001b[39m  12.8   15.1  ▁▃▇▅▁\n",
            "\u001b[90m3\u001b[39m  37.7   40.0  ▁▃▇▅▁\n",
            "\u001b[90m4\u001b[39m   4.13   6.92 ▁▃▇▃▁\n",
            "\u001b[90m5\u001b[39m 549.   766.   ▁▅▇▃▁\n"
          ]
        },
        {
          "output_type": "error",
          "ename": "ERROR",
          "evalue": "Error in is.null(text_repr) || nchar(text_repr) == 0L: 'length = 17' in coercion to 'logical(1)'\n",
          "traceback": [
            "Error in is.null(text_repr) || nchar(text_repr) == 0L: 'length = 17' in coercion to 'logical(1)'\nTraceback:\n",
            "1. prepare_mimebundle_kernel(obj, .self$handle_display_error)",
            "2. .handleSimpleError(function (cnd) \n . {\n .     watcher$capture_plot_and_output()\n .     cnd <- sanitize_call(cnd)\n .     watcher$push(cnd)\n .     switch(on_error, continue = invokeRestart(\"eval_continue\"), \n .         stop = invokeRestart(\"eval_stop\"), error = invokeRestart(\"eval_error\", \n .             cnd))\n . }, \"'length = 17' in coercion to 'logical(1)'\", base::quote(is.null(text_repr) || \n .     nchar(text_repr) == 0L))"
          ]
        }
      ]
    },
    {
      "cell_type": "code",
      "source": [
        "# Seleccionamos solo las columnas cuantitativas, asumiendo que sabes cuáles son\n",
        "variables_cuantitativas <- select(aux1, -c(Email,Address,Avatar))\n",
        "\n",
        "# Calculando estadísticas descriptivas para las variables cuantitativas\n",
        "estadisticas_descriptivas <- variables_cuantitativas %>%\n",
        "  summarise(across(everything(), list(\n",
        "    media = ~mean(.x, na.rm = TRUE),\n",
        "    mediana = ~median(.x, na.rm = TRUE),\n",
        "    desviacion_std = ~sd(.x, na.rm = TRUE),\n",
        "    varianza = ~var(.x, na.rm = TRUE),\n",
        "    rango_intercuartil = ~IQR(.x, na.rm = TRUE),\n",
        "    asimetria = ~skewness(.x, na.rm = TRUE),\n",
        "    curtosis = ~kurtosis(.x, na.rm = TRUE)\n",
        "  )))\n",
        "\n",
        "print(estadisticas_descriptivas)\n"
      ],
      "metadata": {
        "colab": {
          "base_uri": "https://localhost:8080/",
          "height": 241
        },
        "id": "ohsp5SEgGptV",
        "outputId": "57b890f0-b406-4741-e4e5-3c5f30756d65"
      },
      "execution_count": 34,
      "outputs": [
        {
          "output_type": "error",
          "ename": "ERROR",
          "evalue": "Error: object 'aux1' not found\n",
          "traceback": [
            "Error: object 'aux1' not found\nTraceback:\n",
            "1. .handleSimpleError(function (cnd) \n . {\n .     watcher$capture_plot_and_output()\n .     cnd <- sanitize_call(cnd)\n .     watcher$push(cnd)\n .     switch(on_error, continue = invokeRestart(\"eval_continue\"), \n .         stop = invokeRestart(\"eval_stop\"), error = invokeRestart(\"eval_error\", \n .             cnd))\n . }, \"object 'aux1' not found\", base::quote(eval(expr, envir)))"
          ]
        }
      ]
    },
    {
      "cell_type": "markdown",
      "source": [
        "**Respuesta 3:**\n",
        "- Probablemente la app esta partiendo por eso el mayor tiempo se da en website\n",
        "- El promedio respalda que el comportamiento de esta bd es web."
      ],
      "metadata": {
        "id": "l8YjRUm_HtQh"
      }
    },
    {
      "cell_type": "markdown",
      "source": [
        "4.- Construye gráficos univariados para todas las variables cuantitativas. Luego, construye gráficos bivariados (dispersión) entre la variable “Yearly Amount Spentr” y cada una de las variables restantes. Interpreta los resultados."
      ],
      "metadata": {
        "id": "oAoMb_goQ-dS"
      }
    }
  ]
}