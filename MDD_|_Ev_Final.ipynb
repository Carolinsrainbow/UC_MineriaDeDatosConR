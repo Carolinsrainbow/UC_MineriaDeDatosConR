{
  "nbformat": 4,
  "nbformat_minor": 0,
  "metadata": {
    "colab": {
      "provenance": [],
      "authorship_tag": "ABX9TyPxMgjBtePZ7ClYtc1ZpSOo",
      "include_colab_link": true
    },
    "kernelspec": {
      "name": "ir",
      "display_name": "R"
    },
    "language_info": {
      "name": "R"
    }
  },
  "cells": [
    {
      "cell_type": "markdown",
      "metadata": {
        "id": "view-in-github",
        "colab_type": "text"
      },
      "source": [
        "<a href=\"https://colab.research.google.com/github/Carolinsrainbow/UC_MineriaDeDatosConR/blob/main/MDD_%7C_Ev_Final.ipynb\" target=\"_parent\"><img src=\"https://colab.research.google.com/assets/colab-badge.svg\" alt=\"Open In Colab\"/></a>"
      ]
    },
    {
      "cell_type": "markdown",
      "source": [
        "Instrucciones\n",
        "\n",
        "Resumen\n",
        "\n",
        "¡Bienvenido(a)!\n",
        "\n",
        "Te invitamos a realizar el proyecto final del curso, englobando de forma completa el proceso KDD.\n",
        "\n",
        "Objetivo: Resolver un problema de negocio aplicando todas las etapas del proceso de Minería de Datos.\n",
        "Tipo de actividad: Grupal\n",
        "Tipo de evaluación: Sumativa (con calificación)\n",
        "Ponderación: 20%\n",
        "Puntaje: 80 puntos\n",
        "Calificación: Exigencia de 50%.\n",
        "\n",
        "Evaluación\n",
        "\n",
        "Descarga el instrumento de evaluación y revísalo antes de realizar la actividad.\n",
        "Instrucciones\n",
        "\n",
        "1.- Antes de comenzar, debes haber revisado las clases y tutoriales de todo el curso, además de las evaluaciones formativas y las lecturas obligatorias.\n",
        "\n",
        "2.- Para esta actividad, descarga el archivo Ecommerce.csv y cárgalo en R con el nombre “ecommerce”, renombrando las variables, quitando los espacios y otros posibles caracteres conflictivos, según corresponda. Este dataset contiene información sobre las compras en línea que realizaron 500 clientes en una pequeña tienda de retail en EEUU. Debes trabajar en R, para lo cual puedes usar RStudio Cloud (hoy migrando de nombre a “posit”) o instalando R local en tu computador."
      ],
      "metadata": {
        "id": "p6aAtjINRzFv"
      }
    },
    {
      "cell_type": "code",
      "source": [
        "# Instalación\n",
        "\n",
        "install.packages(\"readr\")\n",
        "install.packages(\"dplyr\")\n",
        "install.packages(\"ggplot2\")\n",
        "install.packages(\"scales\")\n",
        "install.packages(\"ggpubr\")\n",
        "install.packages(\"gtsummary\")\n",
        "install.packages(\"corrplot\")"
      ],
      "metadata": {
        "colab": {
          "base_uri": "https://localhost:8080/"
        },
        "collapsed": true,
        "id": "y4NEv8HfdVFQ",
        "outputId": "9dcaaa21-bf67-405a-971f-7f3e269674e4"
      },
      "execution_count": 2,
      "outputs": [
        {
          "output_type": "stream",
          "name": "stderr",
          "text": [
            "Installing package into ‘/usr/local/lib/R/site-library’\n",
            "(as ‘lib’ is unspecified)\n",
            "\n",
            "Installing package into ‘/usr/local/lib/R/site-library’\n",
            "(as ‘lib’ is unspecified)\n",
            "\n",
            "Installing package into ‘/usr/local/lib/R/site-library’\n",
            "(as ‘lib’ is unspecified)\n",
            "\n",
            "Installing package into ‘/usr/local/lib/R/site-library’\n",
            "(as ‘lib’ is unspecified)\n",
            "\n",
            "Installing package into ‘/usr/local/lib/R/site-library’\n",
            "(as ‘lib’ is unspecified)\n",
            "\n",
            "Installing package into ‘/usr/local/lib/R/site-library’\n",
            "(as ‘lib’ is unspecified)\n",
            "\n",
            "Installing package into ‘/usr/local/lib/R/site-library’\n",
            "(as ‘lib’ is unspecified)\n",
            "\n"
          ]
        }
      ]
    },
    {
      "cell_type": "code",
      "source": [
        "# Librerías\n",
        "library(readr)\n",
        "library(dplyr)\n",
        "library(ggplot2)\n",
        "library(scales)\n",
        "library(ggpubr)\n",
        "library(gtsummary)\n",
        "library(corrplot)"
      ],
      "metadata": {
        "colab": {
          "base_uri": "https://localhost:8080/"
        },
        "collapsed": true,
        "id": "qsuvLh_gfwgq",
        "outputId": "40744e91-ccc1-41af-aea2-793a8c56ca41"
      },
      "execution_count": 3,
      "outputs": [
        {
          "output_type": "stream",
          "name": "stderr",
          "text": [
            "\n",
            "Attaching package: ‘dplyr’\n",
            "\n",
            "\n",
            "The following objects are masked from ‘package:stats’:\n",
            "\n",
            "    filter, lag\n",
            "\n",
            "\n",
            "The following objects are masked from ‘package:base’:\n",
            "\n",
            "    intersect, setdiff, setequal, union\n",
            "\n",
            "\n",
            "\n",
            "Attaching package: ‘scales’\n",
            "\n",
            "\n",
            "The following object is masked from ‘package:readr’:\n",
            "\n",
            "    col_factor\n",
            "\n",
            "\n",
            "corrplot 0.94 loaded\n",
            "\n"
          ]
        }
      ]
    },
    {
      "cell_type": "code",
      "source": [
        "datos <- read.table(\"Ecommerce.txt\", header = TRUE, sep = \"\\t\", stringsAsFactors = FALSE)\n",
        "head(datos)"
      ],
      "metadata": {
        "colab": {
          "base_uri": "https://localhost:8080/",
          "height": 385
        },
        "id": "XRjQt_5YgpyP",
        "outputId": "c1ec80f8-28da-4077-a755-460ecd7aeb34"
      },
      "execution_count": 4,
      "outputs": [
        {
          "output_type": "display_data",
          "data": {
            "text/html": [
              "<table class=\"dataframe\">\n",
              "<caption>A data.frame: 6 × 1</caption>\n",
              "<thead>\n",
              "\t<tr><th></th><th scope=col>Email.Address.Avatar.Avg..Session.Length.Time.on.App.Time.on.Website.Length.of.Membership.Yearly.Amount.Spent</th></tr>\n",
              "\t<tr><th></th><th scope=col>&lt;chr&gt;</th></tr>\n",
              "</thead>\n",
              "<tbody>\n",
              "\t<tr><th scope=row>1</th><td>mstephenson@fernandez.com,835 Frank Tunnel\n",
              "Wrightmouth, MI 82180-9605,Violet,34.49726772511229,12.655651149166752,39.57766801952616,4.082620632952961,587.9510539684005                         </td></tr>\n",
              "\t<tr><th scope=row>2</th><td>hduke@hotmail.com,4547 Archer Common\n",
              "Diazchester, CA 06566-8576,DarkGreen,31.926272026360156,11.109460728682564,37.268958868297744,2.66403418213262,392.2049334443264                           </td></tr>\n",
              "\t<tr><th scope=row>3</th><td>pallen@yahoo.com,24645 Valerie Unions Suite 582\n",
              "Cobbborough, DC 99414-7564,Bisque,33.000914755642675,11.330278057777512,37.11059744212085,4.104543202376424,487.54750486747207                  </td></tr>\n",
              "\t<tr><th scope=row>4</th><td>riverarebecca@gmail.com,1414 David Throughway\n",
              "Port Jason, OH 22070-1220,SaddleBrown,34.30555662975554,13.717513665142508,36.72128267790313,3.1201787827480914,581.8523440352178                 </td></tr>\n",
              "\t<tr><th scope=row>5</th><td>mstephens@davidson-herman.com,14023 Rodriguez Passage\n",
              "Port Jacobville, PR 37242-1057,MediumAquaMarine,33.33067252364639,12.795188551078114,37.53665330059473,4.446308318351435,599.4060920457634</td></tr>\n",
              "\t<tr><th scope=row>6</th><td>alvareznancy@lucas.biz,645 Martha Park Apt. 611\n",
              "Jeffreychester, MN 67218-7250,FloralWhite,33.87103787934198,12.026925339755058,34.47687762925054,5.493507201364199,637.102447915074             </td></tr>\n",
              "</tbody>\n",
              "</table>\n"
            ],
            "text/markdown": "\nA data.frame: 6 × 1\n\n| <!--/--> | Email.Address.Avatar.Avg..Session.Length.Time.on.App.Time.on.Website.Length.of.Membership.Yearly.Amount.Spent &lt;chr&gt; |\n|---|---|\n| 1 | mstephenson@fernandez.com,835 Frank Tunnel\nWrightmouth, MI 82180-9605,Violet,34.49726772511229,12.655651149166752,39.57766801952616,4.082620632952961,587.9510539684005                          |\n| 2 | hduke@hotmail.com,4547 Archer Common\nDiazchester, CA 06566-8576,DarkGreen,31.926272026360156,11.109460728682564,37.268958868297744,2.66403418213262,392.2049334443264                            |\n| 3 | pallen@yahoo.com,24645 Valerie Unions Suite 582\nCobbborough, DC 99414-7564,Bisque,33.000914755642675,11.330278057777512,37.11059744212085,4.104543202376424,487.54750486747207                   |\n| 4 | riverarebecca@gmail.com,1414 David Throughway\nPort Jason, OH 22070-1220,SaddleBrown,34.30555662975554,13.717513665142508,36.72128267790313,3.1201787827480914,581.8523440352178                  |\n| 5 | mstephens@davidson-herman.com,14023 Rodriguez Passage\nPort Jacobville, PR 37242-1057,MediumAquaMarine,33.33067252364639,12.795188551078114,37.53665330059473,4.446308318351435,599.4060920457634 |\n| 6 | alvareznancy@lucas.biz,645 Martha Park Apt. 611\nJeffreychester, MN 67218-7250,FloralWhite,33.87103787934198,12.026925339755058,34.47687762925054,5.493507201364199,637.102447915074              |\n\n",
            "text/latex": "A data.frame: 6 × 1\n\\begin{tabular}{r|l}\n  & Email.Address.Avatar.Avg..Session.Length.Time.on.App.Time.on.Website.Length.of.Membership.Yearly.Amount.Spent\\\\\n  & <chr>\\\\\n\\hline\n\t1 & mstephenson@fernandez.com,835 Frank Tunnel\nWrightmouth, MI 82180-9605,Violet,34.49726772511229,12.655651149166752,39.57766801952616,4.082620632952961,587.9510539684005                         \\\\\n\t2 & hduke@hotmail.com,4547 Archer Common\nDiazchester, CA 06566-8576,DarkGreen,31.926272026360156,11.109460728682564,37.268958868297744,2.66403418213262,392.2049334443264                           \\\\\n\t3 & pallen@yahoo.com,24645 Valerie Unions Suite 582\nCobbborough, DC 99414-7564,Bisque,33.000914755642675,11.330278057777512,37.11059744212085,4.104543202376424,487.54750486747207                  \\\\\n\t4 & riverarebecca@gmail.com,1414 David Throughway\nPort Jason, OH 22070-1220,SaddleBrown,34.30555662975554,13.717513665142508,36.72128267790313,3.1201787827480914,581.8523440352178                 \\\\\n\t5 & mstephens@davidson-herman.com,14023 Rodriguez Passage\nPort Jacobville, PR 37242-1057,MediumAquaMarine,33.33067252364639,12.795188551078114,37.53665330059473,4.446308318351435,599.4060920457634\\\\\n\t6 & alvareznancy@lucas.biz,645 Martha Park Apt. 611\nJeffreychester, MN 67218-7250,FloralWhite,33.87103787934198,12.026925339755058,34.47687762925054,5.493507201364199,637.102447915074             \\\\\n\\end{tabular}\n",
            "text/plain": [
              "  Email.Address.Avatar.Avg..Session.Length.Time.on.App.Time.on.Website.Length.of.Membership.Yearly.Amount.Spent                                                                                    \n",
              "1 mstephenson@fernandez.com,835 Frank Tunnel\\nWrightmouth, MI 82180-9605,Violet,34.49726772511229,12.655651149166752,39.57766801952616,4.082620632952961,587.9510539684005                         \n",
              "2 hduke@hotmail.com,4547 Archer Common\\nDiazchester, CA 06566-8576,DarkGreen,31.926272026360156,11.109460728682564,37.268958868297744,2.66403418213262,392.2049334443264                           \n",
              "3 pallen@yahoo.com,24645 Valerie Unions Suite 582\\nCobbborough, DC 99414-7564,Bisque,33.000914755642675,11.330278057777512,37.11059744212085,4.104543202376424,487.54750486747207                  \n",
              "4 riverarebecca@gmail.com,1414 David Throughway\\nPort Jason, OH 22070-1220,SaddleBrown,34.30555662975554,13.717513665142508,36.72128267790313,3.1201787827480914,581.8523440352178                 \n",
              "5 mstephens@davidson-herman.com,14023 Rodriguez Passage\\nPort Jacobville, PR 37242-1057,MediumAquaMarine,33.33067252364639,12.795188551078114,37.53665330059473,4.446308318351435,599.4060920457634\n",
              "6 alvareznancy@lucas.biz,645 Martha Park Apt. 611\\nJeffreychester, MN 67218-7250,FloralWhite,33.87103787934198,12.026925339755058,34.47687762925054,5.493507201364199,637.102447915074             "
            ]
          },
          "metadata": {}
        }
      ]
    }
  ]
}