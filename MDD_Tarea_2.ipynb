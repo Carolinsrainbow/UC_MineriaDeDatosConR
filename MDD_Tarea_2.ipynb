{
  "nbformat": 4,
  "nbformat_minor": 0,
  "metadata": {
    "colab": {
      "provenance": [],
      "authorship_tag": "ABX9TyPEEiwEgV5566JkDhSF7H2T",
      "include_colab_link": true
    },
    "kernelspec": {
      "name": "ir",
      "display_name": "R"
    },
    "language_info": {
      "name": "R"
    }
  },
  "cells": [
    {
      "cell_type": "markdown",
      "metadata": {
        "id": "view-in-github",
        "colab_type": "text"
      },
      "source": [
        "<a href=\"https://colab.research.google.com/github/Carolinsrainbow/UC_MineriaDeDatosConR/blob/main/MDD_Tarea_2.ipynb\" target=\"_parent\"><img src=\"https://colab.research.google.com/assets/colab-badge.svg\" alt=\"Open In Colab\"/></a>"
      ]
    },
    {
      "cell_type": "markdown",
      "source": [
        "# MDD - Tarea: Análisis descriptivo y gráfico catálogo de películas de Netflix\n"
      ],
      "metadata": {
        "id": "kVDP79vLgdH8"
      }
    },
    {
      "cell_type": "markdown",
      "source": [
        "En primer lugar, calcula la frecuencia y frecuencia relativa de las categorías del campo “Type”. ¿Qué porcentaje del catálogo de películas son “Movie” y qué porcentaje son “TV Show”? Complementa con un gráfico adecuado"
      ],
      "metadata": {
        "id": "-5EwQANTgLOH"
      }
    },
    {
      "cell_type": "markdown",
      "source": [
        "Selecciona solo las películas del catálogo de Netflix. Reporta las estadísticas descriptivas básicas (media, mediana, desviación estándar, mínimo y máximo) sobre la duración de las películas en minutos. Comenta los resultados. Hint: funciones útiles son – gregexpr() ; strsplit() ; str_locate()- de la librería “stringr”"
      ],
      "metadata": {
        "id": "PlWNl9bQgL-2"
      }
    },
    {
      "cell_type": "markdown",
      "source": [
        "Construye un histograma a partir de la duración en minutos de las películas del catálogo de Netflix. Comenta tus resultados relacionando también con el punto anterior."
      ],
      "metadata": {
        "id": "raCXVCOqga7H"
      }
    },
    {
      "cell_type": "code",
      "source": [
        "# Instalación de librerías\n",
        "\n",
        "install.packages(\"readr\")\n",
        "install.packages(\"readxl\")\n",
        "install.packages(\"dplyr\")\n",
        "install.packages(\"ggplot2\")\n",
        "install.packages(\"lubridate\")\n",
        "install.packages(\"devtools\")\n",
        "devtools::install_github(\"tidyverse/dplyr\")\n",
        "install.packages(\"moments\")\n",
        "\n",
        "\n",
        "# Carga de librerías\n",
        "\n",
        "\n",
        "library(readxl)\n",
        "library(moments)\n",
        "library(readr)\n",
        "library(dplyr)\n",
        "library(lubridate)\n",
        "library(ggplot2)\n",
        "library(magrittr)\n",
        "library(stringr)\n",
        "\n",
        "# comprobamos que la ruta existe file.exists(\"/Users/carolinaherreraazolas/Downloads/netflix_titles.csv\")\n",
        "\n",
        "# Carga de documento\n",
        "datos <- read.csv(\"netflix_titles.csv\")\n",
        "summary(datos)\n"
      ],
      "metadata": {
        "id": "3ib4j9sdrSkt",
        "colab": {
          "base_uri": "https://localhost:8080/",
          "height": 1000
        },
        "collapsed": true,
        "outputId": "74665aa8-7f37-486f-b083-b07c1af63281"
      },
      "execution_count": 1,
      "outputs": [
        {
          "output_type": "stream",
          "name": "stderr",
          "text": [
            "Installing package into ‘/usr/local/lib/R/site-library’\n",
            "(as ‘lib’ is unspecified)\n",
            "\n",
            "Installing package into ‘/usr/local/lib/R/site-library’\n",
            "(as ‘lib’ is unspecified)\n",
            "\n",
            "Installing package into ‘/usr/local/lib/R/site-library’\n",
            "(as ‘lib’ is unspecified)\n",
            "\n",
            "Installing package into ‘/usr/local/lib/R/site-library’\n",
            "(as ‘lib’ is unspecified)\n",
            "\n",
            "Installing package into ‘/usr/local/lib/R/site-library’\n",
            "(as ‘lib’ is unspecified)\n",
            "\n",
            "Installing package into ‘/usr/local/lib/R/site-library’\n",
            "(as ‘lib’ is unspecified)\n",
            "\n",
            "Downloading GitHub repo tidyverse/dplyr@HEAD\n",
            "\n"
          ]
        },
        {
          "output_type": "stream",
          "name": "stdout",
          "text": [
            "\n",
            "\u001b[36m──\u001b[39m \u001b[36mR CMD build\u001b[39m \u001b[36m─────────────────────────────────────────────────────────────────\u001b[39m\n",
            "* checking for file ‘/tmp/RtmpHMkM9V/remotes117e682dc747/tidyverse-dplyr-1d17672/DESCRIPTION’ ... OK\n",
            "* preparing ‘dplyr’:\n",
            "* checking DESCRIPTION meta-information ... OK\n",
            "* cleaning src\n",
            "* installing the package to process help pages\n",
            "* cleaning src\n",
            "* checking for LF line-endings in source and make files and shell scripts\n",
            "* checking for empty or unneeded directories\n",
            "Removed empty directory ‘dplyr/inst’\n",
            "* building ‘dplyr_1.1.4.9000.tar.gz’\n",
            "\n"
          ]
        },
        {
          "output_type": "stream",
          "name": "stderr",
          "text": [
            "Installing package into ‘/usr/local/lib/R/site-library’\n",
            "(as ‘lib’ is unspecified)\n",
            "\n",
            "Installing package into ‘/usr/local/lib/R/site-library’\n",
            "(as ‘lib’ is unspecified)\n",
            "\n",
            "\n",
            "Attaching package: ‘dplyr’\n",
            "\n",
            "\n",
            "The following objects are masked from ‘package:stats’:\n",
            "\n",
            "    filter, lag\n",
            "\n",
            "\n",
            "The following objects are masked from ‘package:base’:\n",
            "\n",
            "    intersect, setdiff, setequal, union\n",
            "\n",
            "\n",
            "\n",
            "Attaching package: ‘lubridate’\n",
            "\n",
            "\n",
            "The following objects are masked from ‘package:base’:\n",
            "\n",
            "    date, intersect, setdiff, union\n",
            "\n",
            "\n"
          ]
        },
        {
          "output_type": "display_data",
          "data": {
            "text/plain": [
              "   show_id              type              title             director        \n",
              " Length:8807        Length:8807        Length:8807        Length:8807       \n",
              " Class :character   Class :character   Class :character   Class :character  \n",
              " Mode  :character   Mode  :character   Mode  :character   Mode  :character  \n",
              "                                                                            \n",
              "                                                                            \n",
              "                                                                            \n",
              "     cast             country           date_added         release_year \n",
              " Length:8807        Length:8807        Length:8807        Min.   :1925  \n",
              " Class :character   Class :character   Class :character   1st Qu.:2013  \n",
              " Mode  :character   Mode  :character   Mode  :character   Median :2017  \n",
              "                                                          Mean   :2014  \n",
              "                                                          3rd Qu.:2019  \n",
              "                                                          Max.   :2021  \n",
              "    rating            duration          listed_in         description       \n",
              " Length:8807        Length:8807        Length:8807        Length:8807       \n",
              " Class :character   Class :character   Class :character   Class :character  \n",
              " Mode  :character   Mode  :character   Mode  :character   Mode  :character  \n",
              "                                                                            \n",
              "                                                                            \n",
              "                                                                            "
            ]
          },
          "metadata": {}
        }
      ]
    },
    {
      "cell_type": "code",
      "source": [
        "# En primer lugar, calcula la frecuencia y frecuencia relativa de las categorías del campo “Type”. ¿Qué porcentaje del catálogo de películas son “Movie” y qué porcentaje son “TV Show”? Complementa con un gráfico adecuado\n",
        "\n",
        "#Creamos una tabla solo con los datos de la frecuencia (type) del catálogo Movie / Tv Show\n",
        "\n",
        "frecuencia <- table(datos$type)\n",
        "print(frecuencia)\n",
        "\n",
        "frecuencia_acumulada <- prop.table(frecuencia) * 100\n",
        "print(frecuencia_acumulada)\n",
        "#Resp: Movie 6131(69,62%) vs TV Show 2676 (30,38%)\n",
        "\n",
        "# Calcula la frecuencia y frecuencia relativa de las categorías del campo “type”\n",
        "frecuencia <- table(datos$type)\n",
        "frecuencia_acumulada <- prop.table(frecuencia) * 100\n",
        "\n",
        "# Mostrar los resultados en consola\n",
        "print(frecuencia)\n",
        "print(frecuencia_acumulada)\n",
        "\n",
        "# Gráfico de Movie vs TV Show\n",
        "datos_grafico <- as.data.frame(frecuencia_acumulada)\n",
        "colnames(datos_grafico) <- c(\"Tipo\", \"Porcentaje\")\n",
        "ggplot(datos_grafico, aes(x = Tipo, y = Porcentaje, fill = Tipo)) +\n",
        "  geom_bar(stat = \"identity\") +\n",
        "  labs(title = \"Porcentaje de Películas y Series en Netflix\",\n",
        "       x = \"Tipo\",\n",
        "       y = \"Porcentaje (%)\") +\n",
        "  theme_minimal()\n",
        "\n"
      ],
      "metadata": {
        "colab": {
          "base_uri": "https://localhost:8080/",
          "height": 641
        },
        "id": "rEneHHr5VLsA",
        "outputId": "e0d41489-6055-4eb2-f374-6583743e31b1"
      },
      "execution_count": 3,
      "outputs": [
        {
          "output_type": "stream",
          "name": "stdout",
          "text": [
            "\n",
            "  Movie TV Show \n",
            "   6131    2676 \n",
            "\n",
            "   Movie  TV Show \n",
            "69.61508 30.38492 \n",
            "\n",
            "  Movie TV Show \n",
            "   6131    2676 \n",
            "\n",
            "   Movie  TV Show \n",
            "69.61508 30.38492 \n"
          ]
        },
        {
          "output_type": "display_data",
          "data": {
            "text/plain": [
              "plot without title"
            ],
            "image/png": "[encoded data removed]"
          },
          "metadata": {
            "image/png": {
              "width": 420,
              "height": 420
            }
          }
        }
      ]
    },
    {
      "cell_type": "code",
      "source": [
        "# Filtramos las películas\n",
        "peliculas <- datos %>%\n",
        "  filter(type == \"Movie\")\n",
        "\n",
        "# Sacamos el dato con respecto a los minutos (lo hacemos númerico)\n",
        "peliculas <- peliculas %>%\n",
        "  mutate(duracion_min = as.numeric(str_extract(duration, \"\\\\d+\")))\n",
        "\n",
        "\n",
        "estadisticas_descriptivas <- peliculas %>%\n",
        "  summarise(\n",
        "    media = mean(duracion_min, na.rm = TRUE),\n",
        "    mediana = median(duracion_min, na.rm = TRUE),\n",
        "    desviacion_std = sd(duracion_min, na.rm = TRUE),\n",
        "    minimo = min(duracion_min, na.rm = TRUE),\n",
        "    maximo = max(duracion_min, na.rm = TRUE)\n",
        "  )\n",
        "\n",
        "# Exponemos\n",
        "print(estadisticas_descriptivas)\n"
      ],
      "metadata": {
        "colab": {
          "base_uri": "https://localhost:8080/"
        },
        "id": "TLwLuoy3UD1W",
        "outputId": "e8f4ce6c-9cdd-495c-dd9d-53bd845f4baa"
      },
      "execution_count": 6,
      "outputs": [
        {
          "output_type": "stream",
          "name": "stdout",
          "text": [
            "     media mediana desviacion_std minimo maximo\n",
            "1 99.57719      98       28.29059      3    312\n"
          ]
        }
      ]
    },
    {
      "cell_type": "code",
      "source": [
        "ggplot(peliculas, aes(x = duracion_min)) +\n",
        "  geom_histogram(binwidth = 5, fill = \"blue\", color = \"black\") +\n",
        "  labs(title = \"Histograma sobre Duración de Películas en Netflix\",\n",
        "       x = \"Duración (minutos)\",\n",
        "       y = \"Frecuencia\") +\n",
        "  theme_minimal()"
      ],
      "metadata": {
        "colab": {
          "base_uri": "https://localhost:8080/",
          "height": 471
        },
        "id": "d_71ixlZXA9J",
        "outputId": "7a8c25a6-38f6-4090-ff92-5fa84dd5e6ef"
      },
      "execution_count": 13,
      "outputs": [
        {
          "output_type": "stream",
          "name": "stderr",
          "text": [
            "Warning message:\n",
            "“\u001b[1m\u001b[22mRemoved 3 rows containing non-finite outside the scale range (`stat_bin()`).”\n"
          ]
        },
        {
          "output_type": "display_data",
          "data": {
            "text/plain": [
              "plot without title"
            ],
            "image/png": "[encoded data removed]"
          },
          "metadata": {
            "image/png": {
              "width": 420,
              "height": 420
            }
          }
        }
      ]
    }
  ]
}