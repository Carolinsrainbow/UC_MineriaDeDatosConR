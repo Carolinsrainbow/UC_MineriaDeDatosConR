{
  "nbformat": 4,
  "nbformat_minor": 0,
  "metadata": {
    "colab": {
      "provenance": [],
      "authorship_tag": "ABX9TyOdwT2tZdvLEoJ5PeuHvcQN",
      "include_colab_link": true
    },
    "kernelspec": {
      "name": "ir",
      "display_name": "R"
    },
    "language_info": {
      "name": "R"
    }
  },
  "cells": [
    {
      "cell_type": "markdown",
      "metadata": {
        "id": "view-in-github",
        "colab_type": "text"
      },
      "source": [
        "<a href=\"https://colab.research.google.com/github/Carolinsrainbow/UC_MineriaDeDatosConR/blob/main/MDD_Tarea_2.ipynb\" target=\"_parent\"><img src=\"https://colab.research.google.com/assets/colab-badge.svg\" alt=\"Open In Colab\"/></a>"
      ]
    },
    {
      "cell_type": "markdown",
      "source": [
        "# MDD - Tarea: Análisis descriptivo y gráfico catálogo de películas de Netflix\n"
      ],
      "metadata": {
        "id": "kVDP79vLgdH8"
      }
    },
    {
      "cell_type": "markdown",
      "source": [
        "En primer lugar, calcula la frecuencia y frecuencia relativa de las categorías del campo “Type”. ¿Qué porcentaje del catálogo de películas son “Movie” y qué porcentaje son “TV Show”? Complementa con un gráfico adecuado"
      ],
      "metadata": {
        "id": "-5EwQANTgLOH"
      }
    },
    {
      "cell_type": "markdown",
      "source": [
        "Selecciona solo las películas del catálogo de Netflix. Reporta las estadísticas descriptivas básicas (media, mediana, desviación estándar, mínimo y máximo) sobre la duración de las películas en minutos. Comenta los resultados. Hint: funciones útiles son – gregexpr() ; strsplit() ; str_locate()- de la librería “stringr”"
      ],
      "metadata": {
        "id": "PlWNl9bQgL-2"
      }
    },
    {
      "cell_type": "markdown",
      "source": [
        "Construye un histograma a partir de la duración en minutos de las películas del catálogo de Netflix. Comenta tus resultados relacionando también con el punto anterior."
      ],
      "metadata": {
        "id": "raCXVCOqga7H"
      }
    },
    {
      "cell_type": "code",
      "source": [
        "# Instalación de librerías\n",
        "\n",
        "install.packages(\"readr\")\n",
        "install.packages(\"readxl\")\n",
        "install.packages(\"dplyr\")\n",
        "install.packages(\"lubridate\")\n",
        "install.packages(\"devtools\")\n",
        "devtools::install_github(\"tidyverse/dplyr\")\n",
        "install.packages(\"moments\")\n",
        "\n",
        "# Carga de librerías\n",
        "\n",
        "library(readr)\n",
        "library(readxl)\n",
        "library(dplyr)\n",
        "library(lubridate)\n",
        "library(moments)\n",
        "\n",
        "# comprobamos que la ruta existe file.exists(\"/Users/carolinaherreraazolas/Downloads/netflix_titles.csv\")\n",
        "\n",
        "# Carga de documento\n",
        "datos <- read.csv(\"/Users/carolinaherreraazolas/Downloads/netflix_titles.csv\")\n",
        "summary(datos)\n",
        "\n",
        "# En primer lugar, calcula la frecuencia y frecuencia relativa de las categorías del campo “Type”. ¿Qué porcentaje del catálogo de películas son “Movie” y qué porcentaje son “TV Show”? Complementa con un gráfico adecuado\n",
        "\n",
        "#Creamos una tabla solo con los datos de la frecuencia (type) del catálogo Movie / Tv Show\n",
        "\n",
        "frecuencia <- table(datos$type)\n",
        "print(frecuencia)\n",
        "\n",
        "frecuencia_acumulada <- prop.table(frecuencia) * 100\n",
        "print(frecuencia_acumulada)\n",
        "#Resp: Movie 6131(69,62%) vs TV Show 2676 (30,38%)\n",
        "\n",
        "#Creamos el gráfico de movie vs tv show\n",
        "\n",
        "\n"
      ],
      "metadata": {
        "id": "3ib4j9sdrSkt"
      },
      "execution_count": null,
      "outputs": []
    }
  ]
}